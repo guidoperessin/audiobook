{
 "cells": [
  {
   "cell_type": "code",
   "execution_count": 27,
   "id": "02466ae2",
   "metadata": {},
   "outputs": [],
   "source": [
    "import numpy as np\n",
    "import matplotlib.pyplot as plt\n",
    "import tensorflow.compat.v1 as tf"
   ]
  },
  {
   "cell_type": "code",
   "execution_count": 28,
   "id": "c5b6fca5",
   "metadata": {
    "scrolled": true
   },
   "outputs": [
    {
     "name": "stdout",
     "output_type": "stream",
     "text": [
      "2.3.0\n"
     ]
    }
   ],
   "source": [
    "print(tf.__version__)"
   ]
  },
  {
   "cell_type": "code",
   "execution_count": null,
   "id": "6d1a316f",
   "metadata": {},
   "outputs": [],
   "source": [
    "class Audiobooks_Data_Reader():\n",
    "    def __int__(set, dataset, batch_size= None):\n",
    "        npz= np.load('Audiobooks_data_{0}.npz'.format(dataset))\n",
    "        self.inputs, self.targets= npz['inputs'] astype(np.float), npz['targets']astype(np.int)\n",
    "        \n",
    "        if batch_size is None:\n",
    "            self.batch_size= self.inputs.shape[0]\n",
    "        else:\n",
    "            self.batch_size = self.batch_size\n",
    "        sefl.curr_batch= 0\n",
    "        self.batch_count= self.inputs.shape[0]//self.batch_size\n",
    "        \n",
    "    def __next__ (self):\n",
    "        if sefl.curr_batch >= self.batch_size\n",
    "            self.curr_batch= 0\n",
    "            raise StopIteration()\n",
    "            \n",
    "        batch_slice= slice(self.curr_batch * self.batch_size, (self.curr_batch +1) * self.batch_size )\n",
    "        inputs_batch= self.inputs[batch_slice]\n",
    "        targets_batch= self.targets[batch_slice]\n",
    "        self.curr_batch +=1\n",
    "        \n",
    "        classes_num= 2\n",
    "        targets_one_hot= np.zeros((targets_batch.shape[0],classes_num))\n",
    "        targets_one_hot[range(targets_batch.shape[0]),targets_batch]=1\n",
    "        \n",
    "        return inputs_batch, targets_one_hot\n",
    "    \n",
    "    def __iter__(self):\n",
    "        return self"
   ]
  },
  {
   "cell_type": "code",
   "execution_count": null,
   "id": "7170bd58",
   "metadata": {},
   "outputs": [],
   "source": [
    "input_size = 10\n",
    "output_size = 2\n",
    "\n",
    "hidden_layer_size = 50\n",
    "\n",
    "\n",
    "tf.reset_default_graph()\n",
    "\n",
    "\n",
    "inputs = tf.placeholder(tf.float32, [None, input_size])\n",
    "targets = tf.placeholder(tf.int32, [None, output_size])\n",
    "\n",
    "\n",
    "weights_1 = tf.get_variable(\"weights_1\", [input_size, hidden_layer_size])\n",
    "biases_1 = tf.get_variable(\"biases_1\", [hidden_layer_size])\n",
    "\n",
    "\n",
    "outputs_1 = tf.nn.relu(tf.matmul(inputs, weights_1) + biases_1)\n",
    "\n",
    "weights_2 = tf.get_variable(\"weights_2\", [hidden_layer_size, hidden_layer_size])\n",
    "biases_2 = tf.get_variable(\"biases_2\", [hidden_layer_size])\n",
    ".\n",
    "outputs_2 = tf.nn.relu(tf.matmul(outputs_1, weights_2) + biases_2)\n",
    "\n",
    "\n",
    "weights_3 = tf.get_variable(\"weights_3\", [hidden_layer_size, output_size])\n",
    "biases_3 = tf.get_variable(\"biases_3\", [output_size])\n",
    "\n",
    "\n",
    "outputs = tf.matmul(outputs_2, weights_3) + biases_3\n",
    "\n",
    "loss= tf.nn.softmax_cross_entropy_with_logits(logits= outputs, labels= targets)\n",
    "mean_loss= tf.reduce_mean(loss)\n",
    "\n",
    "optimize= tf.train.AdamOptimizer(learning_rate= 0.001).minimize(mean_loss)\n",
    "out_equals_target= tf.equal(tf.argmax(outputs,1)), tf.argmax(outputs,1)\n",
    "\n",
    "accuracy= tf.reduce_mean(tf.cast(out_equals_target, tf.float32))\n",
    "\n",
    "initializer= tf.global_variables_initializer()\n",
    "\n",
    "sess= tf.InterativeSession()\n",
    "\n",
    "sess.run(initializer)\n",
    "\n",
    "batch_size= 100\n",
    "\n",
    "max_epochs= 50\n",
    "\n",
    "prev_validation_loss= 9999999.\n",
    "\n",
    "train_data= Audiobooks_Data_Reader('train', batch_size)\n",
    "validation_data= Audiobooks_Data_Reader('validation')\n",
    "\n",
    "for epochs_counter in range(max_epochs):\n",
    "    curr_epoch_loss= 0.\n",
    "    \n",
    "    for input_batch, targete_batch in train_data:\n",
    "        _,batch_loss= sess.run([optimize, mean_loss],\n",
    "        feed_dict={inputs:inputs_batch, targets:target_batch})\n",
    "        \n",
    "        curr_epoch_loss += batch_loss\n",
    "        \n",
    "    curr_epoch_loss /=train_data.batch_count\n",
    "    \n",
    "    validation_loss= 0.\n",
    "    validation_accuracy= 0.\n",
    "    \n",
    "    for input_batch, targete_batch in validation_data:\n",
    "        validation_loss, validation_accuracy= sess.run([mean_loss, accuracy],\n",
    "        feed_dict={inputs:inputs_batch, targets:target_batch})\n",
    "        \n",
    "        print('Epoch'+str(epoch_counter+1)+\n",
    "              '. Training loss: '+'{0:.3f}'.format(curr_epoch_loss)+\n",
    "              '. validation loss: '+'{0.3f}'.format(validation_loss)+\n",
    "              '.validation accurancy: '+'{0:.2f}'.format(validation_accuracy* 100)+'%')\n",
    "    if validation_loss > prev_validation_loss:\n",
    "        break\n",
    "        \n",
    "    prev_validation_loss = validatio_loss\n",
    "    \n",
    "print('End of traning.')\n"
   ]
  },
  {
   "cell_type": "code",
   "execution_count": null,
   "id": "5791de79",
   "metadata": {},
   "outputs": [],
   "source": [
    "test_data= Audiobooks_Data_Reader('test')\n",
    "\n",
    "for input_batch, targete_batch in test_data:\n",
    "        test_accuracy= sess.run([ accuracy],\n",
    "        feed_dict={inputs:inputs_batch, targets:target_batch})\n",
    "        \n",
    "\n",
    "test_accuracy_percent= test_accuracy[0]*100\n",
    "\n",
    "print('Test accuracy: '+ '{..2f}'.format(test_accuracy_percent)+'%')"
   ]
  }
 ],
 "metadata": {
  "kernelspec": {
   "display_name": "Python 3 (ipykernel)",
   "language": "python",
   "name": "python3"
  },
  "language_info": {
   "codemirror_mode": {
    "name": "ipython",
    "version": 3
   },
   "file_extension": ".py",
   "mimetype": "text/x-python",
   "name": "python",
   "nbconvert_exporter": "python",
   "pygments_lexer": "ipython3",
   "version": "3.9.13"
  }
 },
 "nbformat": 4,
 "nbformat_minor": 5
}
