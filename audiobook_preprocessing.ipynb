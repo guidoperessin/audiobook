{
 "cells": [
  {
   "cell_type": "code",
   "execution_count": 1,
   "id": "4729492d",
   "metadata": {},
   "outputs": [],
   "source": [
    "import numpy as np\n",
    "from sklearn import preprocessing \n",
    "\n",
    "\n",
    "raw_csv_data= np.loadtxt(r\"C:\\Users\\guido\\Downloads\\Audiobooks_data.csv\", delimiter= ',')\n",
    "\n",
    "unscaled_inputs_all= raw_csv_data[:1,:-1]\n",
    "targets_all= raw_csv_data[:,-1]"
   ]
  },
  {
   "cell_type": "markdown",
   "id": "8e21d653",
   "metadata": {},
   "source": [
    "BAnlance the dataset"
   ]
  },
  {
   "cell_type": "code",
   "execution_count": null,
   "id": "2d827167",
   "metadata": {},
   "outputs": [],
   "source": [
    "one_num_targets= int(np.sum(targets_all))\n",
    "zero_targets_counter= 0\n",
    "indice_to_remove= []\n",
    "\n",
    "for i in range(targets_all.shape[0]):\n",
    "    if targets_all [i]== 0:\n",
    "        zero_targets_counter +=1\n",
    "    if  zero_targets_counter > one_num_targets:\n",
    "        indice_to_remove.append(i)\n",
    "        \n",
    "unscaled_input_equal_priors= np.delete(unscaled_inputs_all,indice_to_remove, axis= 0)\n",
    "target_equal_priors= np.delete(targets_all,indice_to_remove,axis= 0)"
   ]
  },
  {
   "cell_type": "markdown",
   "id": "99ac44fe",
   "metadata": {},
   "source": [
    "Standarizing the inputs"
   ]
  },
  {
   "cell_type": "code",
   "execution_count": null,
   "id": "2c2d2a1e",
   "metadata": {},
   "outputs": [],
   "source": [
    "scaled_inputs= preprocessing.scale(unscaled_input_equal_priors)"
   ]
  },
  {
   "cell_type": "markdown",
   "id": "0757ebbc",
   "metadata": {},
   "source": [
    "Shuffle the data"
   ]
  },
  {
   "cell_type": "code",
   "execution_count": null,
   "id": "c24968da",
   "metadata": {},
   "outputs": [],
   "source": [
    "shuffled_indice= np.arange(scaled_inputs.shape[0])\n",
    "np.random.shuffle(shuffled_indice)\n",
    "\n",
    "shuffled_inputs= scaled_inputs[shuffled_indice]\n",
    "shuffled_targets= target_equal_priors[shuffled_indice]"
   ]
  },
  {
   "cell_type": "markdown",
   "id": "ed9b8095",
   "metadata": {},
   "source": [
    "Split the dataset into de train, validations and test"
   ]
  },
  {
   "cell_type": "code",
   "execution_count": null,
   "id": "d66e714f",
   "metadata": {},
   "outputs": [],
   "source": [
    "samples_count= shuffled_inputs.shape[0]\n",
    "\n",
    "train_samples_count= int(0.8*samples_count)\n",
    "validation_samples_count= int(0.1*samples_count)\n",
    "test_samples_count= samples_count - train_samples_count -validation_samples_count\n",
    "\n",
    "train_inputs= shuflled_inputs[:train_samples_count]\n",
    "train_targets= shuffled_targets[:train_samples_count]\n",
    "\n",
    "validation_inputs= shuflled_inputs[train_samples_count:train_samples_count + validation_samples_count]\n",
    "validation_tragets= shuflled_targets[train_samples_count:train_samples_count + validation_samples_count]\n",
    "\n",
    "test_inputs= shuffled_inputs[train_samples_count + validation_samples_count]\n",
    "test_targets= shuffled_targets[train_samples_count + val__idation_samples_count]\n",
    "\n",
    "print(np.sum(train_targets),train_samples_count,np.sum(train_targets)/train_samples_count)\n",
    "print(np.sum(validation_targets),validation_samples_count, np.sum(validation_targets)/validation_samples_count)\n",
    "print(np.sum(test_targets),test_samples_count,np.sum(test_targets)/test_samples_count)"
   ]
  },
  {
   "cell_type": "markdown",
   "id": "f417b335",
   "metadata": {},
   "source": [
    "Save the three dataset in *.npz"
   ]
  },
  {
   "cell_type": "code",
   "execution_count": null,
   "id": "35c0d943",
   "metadata": {},
   "outputs": [],
   "source": [
    "np.savez('Audiobooks_data_train', inputs= train_inputs, targets= train_targets)\n",
    "np.savez('Audiobooks_data_validation', inputs= validation_inputs, targets= validation_targets)\n",
    "np.savez('Audiobooks_data_test', inputs= test_inputs, targets= test_targets)"
   ]
  }
 ],
 "metadata": {
  "kernelspec": {
   "display_name": "Python 3 (ipykernel)",
   "language": "python",
   "name": "python3"
  },
  "language_info": {
   "codemirror_mode": {
    "name": "ipython",
    "version": 3
   },
   "file_extension": ".py",
   "mimetype": "text/x-python",
   "name": "python",
   "nbconvert_exporter": "python",
   "pygments_lexer": "ipython3",
   "version": "3.9.13"
  }
 },
 "nbformat": 4,
 "nbformat_minor": 5
}
